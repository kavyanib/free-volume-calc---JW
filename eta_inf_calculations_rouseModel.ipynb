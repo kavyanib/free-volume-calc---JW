{
 "cells": [
  {
   "cell_type": "code",
   "execution_count": 3,
   "metadata": {},
   "outputs": [],
   "source": [
    "import numpy as np\n",
    "import matplotlib.pyplot as plt\n",
    "%matplotlib inline"
   ]
  },
  {
   "cell_type": "code",
   "execution_count": 4,
   "metadata": {},
   "outputs": [],
   "source": [
    "def eta_f_Ai (n : int, f : float) -> float:\n",
    "    a1 = 0.6446930\n",
    "    a2 = 0.22908\n",
    "    a3 = 4.874\n",
    "    minus_a4 = 6.158\n",
    "    tet_minus_F = 0.06\n",
    "    temp = (a1 + a2*np.sqrt( (n-2)/(2*f) )*tet_minus_F)\n",
    "    return (1 + temp**a3)**minus_a4\n",
    "\n",
    "def eta_deltaE_Peff (p_eff : float, ref_T = 450, dE = 2.9) -> float:\n",
    "    # \"pressure\" is the the pressure effect in Pa\n",
    "    # dE is in k cal\n",
    "    factor = (dE*4.18*1000 + p_eff)/(8.413*ref_T)\n",
    "    return np.exp(factor)"
   ]
  },
  {
   "cell_type": "code",
   "execution_count": 5,
   "metadata": {},
   "outputs": [
    {
     "name": "stdout",
     "output_type": "stream",
     "text": [
      "2.9539855369970607e-06\n"
     ]
    }
   ],
   "source": [
    "f_term = eta_f_Ai(n=292, f=0.53969)\n",
    "energy_term = eta_deltaE_Peff(p_eff=2881.4369, ref_T=450)\n",
    "eta_infinit = 1.1509127/(592*f_term*energy_term)\n",
    "print(eta_infinit)"
   ]
  },
  {
   "cell_type": "code",
   "execution_count": 6,
   "metadata": {},
   "outputs": [
    {
     "name": "stdout",
     "output_type": "stream",
     "text": [
      "8.502617114822596e-07\n"
     ]
    }
   ],
   "source": [
    "n_bead = 592 # M2 = \n",
    "viscosity = 1.1509127\n",
    "\n",
    "## f and P_eff are from the table (results form the codes are should be for n/2.\n",
    "#                                   See README.md file)\n",
    "f_term = eta_f_Ai(n=n_bead, f=0.53969)\n",
    "energy_term = eta_deltaE_Peff(p_eff=2881.4369, ref_T=450)\n",
    "eta_infinit = viscosity/(n_bead*f_term*energy_term)\n",
    "print(eta_infinit)"
   ]
  },
  {
   "cell_type": "code",
   "execution_count": 7,
   "metadata": {},
   "outputs": [
    {
     "name": "stdout",
     "output_type": "stream",
     "text": [
      "8.502617114822595e-07\n"
     ]
    }
   ],
   "source": [
    "n_bead = 1000\n",
    "viscosity = 4.331164\n",
    "\n",
    "f_term = eta_f_Ai(n=n_bead, f=0.546769)\n",
    "energy_term = eta_deltaE_Peff(p_eff=2841.71797, ref_T=450)\n",
    "viscosity = eta_infinit*n_bead * energy_term * f_term\n",
    "\n",
    "eta_infinit = viscosity/(n_bead*f_term*energy_term)\n",
    "print(eta_infinit)\n"
   ]
  },
  {
   "cell_type": "markdown",
   "metadata": {},
   "source": [
    "# Testing the eta_inf value "
   ]
  },
  {
   "cell_type": "code",
   "execution_count": 9,
   "metadata": {},
   "outputs": [
    {
     "name": "stdout",
     "output_type": "stream",
     "text": [
      "[ 515.11948726  748.23478248 2531.78674804]\n",
      "[9.61335442792168e-07, 4.5881015256441176e-07, 1.0774800257305203e-08]\n",
      "Mean value of eta_inf is: \n",
      " 4.769734652046283e-07\n"
     ]
    },
    {
     "data": {
      "image/png": "[encoded data removed]",
      "text/plain": [
       "<Figure size 432x288 with 1 Axes>"
      ]
     },
     "metadata": {
      "needs_background": "light"
     },
     "output_type": "display_data"
    }
   ],
   "source": [
    "# For T = 450:\n",
    "temperature = 450\n",
    "\n",
    "mw  = [14450.75, 20990.38, 71024.72]\n",
    "eta = [4.331164, 1.27944649e+01, 1.86213456e+03]\n",
    "\n",
    "n_beads = np.array(mw)/14.0266\n",
    "n_beads_for_code = n_beads/2\n",
    "print(n_beads_for_code)\n",
    "f_values = [0.5429639, 0.54515, 0.551157]\n",
    "p_eff_values = [2863.11810, 2850.8134, 2816.93823]\n",
    "eta_infinit = []\n",
    "eta_inf_dic = {}\n",
    "for itr in range(len(mw)):\n",
    "\n",
    "    f_term = eta_f_Ai(n=n_beads[itr], f=f_values[itr])\n",
    "    # energy_term = eta_deltaE_Peff(p_eff=p_eff_values[itr], ref_T=temperature)\n",
    "    # viscosity = eta_infinit*n_bead * energy_term * f_term\n",
    "\n",
    "    eta_infinit.append(eta[itr]/(n_beads[itr]*f_term*np.sqrt(temperature)))\n",
    "\n",
    "print(eta_infinit)\n",
    "eta_inf_dic [temperature] = eta_infinit\n",
    "print('Mean value of eta_inf is: \\n', str(np.mean(eta_infinit)))\n",
    "plt.plot(mw, eta_infinit)\n",
    "plt.xlabel(\"$M_W$\")\n",
    "plt.ylabel(r\"${\\eta}_{\\infty}$\")\n",
    "plt.show()"
   ]
  },
  {
   "cell_type": "code",
   "execution_count": 16,
   "metadata": {},
   "outputs": [
    {
     "name": "stdout",
     "output_type": "stream",
     "text": [
      "The approximated voscosity is:  475.4641821155267\n",
      "The viscosity from the plot is: 37.1419414\n"
     ]
    }
   ],
   "source": [
    "eta_inf = np.mean(list(eta_inf_dic.values()))\n",
    "\n",
    "eta_inf = eta_inf_dic[450][0]\n",
    "\n",
    "temperature = 480\n",
    "mw = 31093\n",
    "n_beads = int(np.round(mw/14.0266, decimals=0))\n",
    "\n",
    "f_term = eta_f_Ai(n=n_beads, f=0.5608844193)\n",
    "energy_term = eta_deltaE_Peff(p_eff=2945.69429170, ref_T=temperature)\n",
    "\n",
    "viscosity = n_beads*eta_inf*energy_term*f_term\n",
    "print(\"The approximated voscosity is:  \"+str(viscosity))\n",
    "print(\"The viscosity from the plot is: \"+str(3.71419414e+01))"
   ]
  },
  {
   "cell_type": "code",
   "execution_count": 20,
   "metadata": {},
   "outputs": [
    {
     "name": "stdout",
     "output_type": "stream",
     "text": [
      "[1030.23897452 1496.46956497 5063.57349607]\n",
      "1.0966544317406481e-06\n"
     ]
    }
   ],
   "source": [
    "mw  = [14450.75, 20990.38, 71024.72]\n",
    "eta = [4.331164, 1.27944649e+01, 1.86213456e+03]\n",
    "n_beads_plot = np.array(mw)/14.0266\n",
    "print(n_beads_plot)\n",
    "\n",
    "temperature = 450\n",
    "\n",
    "\n",
    "n_beads = 1000\n",
    "\n",
    "f_from_table1 = 0.543\n",
    "p_from_table2 = 2864\n",
    "\n",
    "f_term = eta_f_Ai(n=n_beads, f=f_from_table1)\n",
    "energy_term = eta_deltaE_Peff(p_eff=p_from_table2, ref_T=temperature)\n",
    "# viscosity = eta_infinit*n_beads * energy_term * f_term\n",
    "\n",
    "eta_infinit = eta[0]/(n_beads*f_term*np.sqrt(temperature))\n",
    "print(eta_infinit)\n"
   ]
  },
  {
   "cell_type": "code",
   "execution_count": 23,
   "metadata": {},
   "outputs": [
    {
     "name": "stdout",
     "output_type": "stream",
     "text": [
      "[1030.23897452 1496.46956497 5063.57349607]\n",
      "2.2154706257946567e-07\n"
     ]
    }
   ],
   "source": [
    "# mw  = [14450.75, 20990.38, 71024.72]\n",
    "eta = [3.30410013e+01]\n",
    "n_beads_plot = np.array(mw)/14.0266\n",
    "print(n_beads_plot)\n",
    "\n",
    "temperature = 450\n",
    "\n",
    "\n",
    "n_beads = 2000\n",
    "\n",
    "f_from_table1 = 0.547\n",
    "p_from_table2 = 2841\n",
    "\n",
    "f_term = eta_f_Ai(n=n_beads, f=f_from_table1)\n",
    "energy_term = eta_deltaE_Peff(p_eff=p_from_table2, ref_T=temperature)\n",
    "# viscosity = eta_infinit*n_beads * energy_term * f_term\n",
    "\n",
    "eta_infinit = eta[0]/(n_beads*f_term*np.sqrt(temperature))\n",
    "print(eta_infinit)\n"
   ]
  },
  {
   "cell_type": "code",
   "execution_count": null,
   "metadata": {},
   "outputs": [],
   "source": []
  }
 ],
 "metadata": {
  "interpreter": {
   "hash": "f66168a065ac0c71b316e6d66d97e9785fa3fae7de673d3fe77b7b3dd2554caf"
  },
  "kernelspec": {
   "display_name": "Python 3.7.11 64-bit ('starterENV': conda)",
   "language": "python",
   "name": "python3"
  },
  "language_info": {
   "codemirror_mode": {
    "name": "ipython",
    "version": 3
   },
   "file_extension": ".py",
   "mimetype": "text/x-python",
   "name": "python",
   "nbconvert_exporter": "python",
   "pygments_lexer": "ipython3",
   "version": "3.7.11"
  },
  "orig_nbformat": 4
 },
 "nbformat": 4,
 "nbformat_minor": 2
}
