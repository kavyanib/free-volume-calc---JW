{
 "cells": [
  {
   "cell_type": "code",
   "execution_count": 25,
   "metadata": {},
   "outputs": [],
   "source": [
    "import numpy as np\n",
    "import matplotlib.pyplot as plt\n",
    "%matplotlib inline"
   ]
  },
  {
   "cell_type": "code",
   "execution_count": 13,
   "metadata": {},
   "outputs": [
    {
     "name": "stdout",
     "output_type": "stream",
     "text": [
      "The angle of the corrected version for T = 450 K is: 74.63838368815134\n",
      "The angle of the UN-correct version for T = 450 K is: 75.51179677196752\n",
      "The difference (in degree) is (UN-correcte - corrected): 0.8734130838161889\n"
     ]
    }
   ],
   "source": [
    "print (\"The angle of the corrected version for T = 450 K is: \"+str(np.arctan(3.64)*180/np.pi))\n",
    "print (\"The angle of the UN-correct version for T = 450 K is: \"+str(np.arctan(3.87)*180/np.pi))\n",
    "print (\"The difference (in degree) is (UN-correcte - corrected): \"+str(np.arctan(3.87)*180/np.pi-np.arctan(3.64)*180/np.pi))"
   ]
  },
  {
   "cell_type": "code",
   "execution_count": 14,
   "metadata": {},
   "outputs": [
    {
     "name": "stdout",
     "output_type": "stream",
     "text": [
      "The angle of the corrected version for T = 490 K is: 74.22576349886336\n",
      "The angle of the UN-correct version for T = 490 K is: 75.14428322968948\n",
      "The difference (in degree) is (UN-correcte - corrected): 0.9185197308261195\n"
     ]
    }
   ],
   "source": [
    "print (\"The angle of the corrected version for T = 490 K is: \"+str(np.arctan(3.54)*180/np.pi))\n",
    "print (\"The angle of the UN-correct version for T = 490 K is: \"+str(np.arctan(3.77)*180/np.pi))\n",
    "print (\"The difference (in degree) is (UN-correcte - corrected): \"+str(np.arctan(3.77)*180/np.pi-np.arctan(3.54)*180/np.pi))"
   ]
  },
  {
   "cell_type": "code",
   "execution_count": 2,
   "metadata": {},
   "outputs": [
    {
     "name": "stdout",
     "output_type": "stream",
     "text": [
      "The average angle of rotation is (in degree): -0.8959664073211542\n"
     ]
    }
   ],
   "source": [
    "avg_rotation = np.mean([0.8734130838161889, 0.9185197308261195])*(-1) # The \"-1\" is due to the rotation in the oppisite direction\n",
    "print(\"The average angle of rotation is (in degree): {0}\".format(avg_rotation))"
   ]
  },
  {
   "cell_type": "code",
   "execution_count": 3,
   "metadata": {},
   "outputs": [
    {
     "name": "stdout",
     "output_type": "stream",
     "text": [
      "Rotation matrix is: \n",
      "[[ 0.99987774  0.01563693]\n",
      " [-0.01563693  0.99987774]]\n"
     ]
    }
   ],
   "source": [
    "avg_rotation_in_rad = avg_rotation*np.pi/180\n",
    "transform_matrix = np.array([[np.cos(avg_rotation_in_rad), -np.sin(avg_rotation_in_rad)], [np.sin(avg_rotation_in_rad), np.cos(avg_rotation_in_rad)]])\n",
    "print(\"Rotation matrix is: \\n\"+str(transform_matrix))"
   ]
  },
  {
   "cell_type": "code",
   "execution_count": 7,
   "metadata": {},
   "outputs": [
    {
     "data": {
      "text/plain": [
       "-0.01563692648503348"
      ]
     },
     "execution_count": 7,
     "metadata": {},
     "output_type": "execute_result"
    }
   ],
   "source": [
    "transform_matrix[1,0]"
   ]
  },
  {
   "cell_type": "code",
   "execution_count": 6,
   "metadata": {},
   "outputs": [
    {
     "data": {
      "text/plain": [
       "2"
      ]
     },
     "execution_count": 6,
     "metadata": {},
     "output_type": "execute_result"
    }
   ],
   "source": [
    "len(transform_matrix)"
   ]
  },
  {
   "cell_type": "code",
   "execution_count": 9,
   "metadata": {},
   "outputs": [],
   "source": [
    "x= [560.0, 840.0, 1120.0, 1400.0, 1680.0, 1960.0, 2240.0, 2520.0, 2800.0, 5600.0, 8400.0, 11200.0, 14000.0, 16800.0, 19600, 22400, 25200, 28000, 56000]\n",
    "y = [0.01095349799959157, 0.018045809418992073, 0.02613039589546785, 0.03521757397993226, 0.045336565169067165, 0.05652772155589112, 0.06840396324054906, 0.08163907354456637, 0.0970426431748728, 0.32838081450202694, 0.7822694133372321, 1.601251083904066, 3.001987741057821, 5.307034669592005, 8.986184402607337, 14.713599239702873, 23.44252695166395, 36.503400164521466, 1366.7652382492524]"
   ]
  },
  {
   "cell_type": "code",
   "execution_count": 49,
   "metadata": {},
   "outputs": [],
   "source": [
    "points = np.zeros((2, len(x)))\n",
    "points[0][:] = np.array(x)\n",
    "points[1][:] = np.array(y)"
   ]
  },
  {
   "cell_type": "code",
   "execution_count": null,
   "metadata": {},
   "outputs": [],
   "source": []
  }
 ],
 "metadata": {
  "interpreter": {
   "hash": "f66168a065ac0c71b316e6d66d97e9785fa3fae7de673d3fe77b7b3dd2554caf"
  },
  "kernelspec": {
   "display_name": "Python 3.7.11 64-bit ('starterENV': conda)",
   "language": "python",
   "name": "python3"
  },
  "language_info": {
   "codemirror_mode": {
    "name": "ipython",
    "version": 3
   },
   "file_extension": ".py",
   "mimetype": "text/x-python",
   "name": "python",
   "nbconvert_exporter": "python",
   "pygments_lexer": "ipython3",
   "version": "3.7.11"
  },
  "orig_nbformat": 4
 },
 "nbformat": 4,
 "nbformat_minor": 2
}
