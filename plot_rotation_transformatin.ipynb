{
 "cells": [
  {
   "cell_type": "code",
   "execution_count": 1,
   "metadata": {},
   "outputs": [],
   "source": [
    "import numpy as np\n",
    "import matplotlib.pyplot as plt\n",
    "%matplotlib inline"
   ]
  },
  {
   "cell_type": "code",
   "execution_count": 2,
   "metadata": {},
   "outputs": [
    {
     "name": "stdout",
     "output_type": "stream",
     "text": [
      "The angle of the corrected version for T = 450 K is: 74.63838368815134\n",
      "The angle of the UN-correct version for T = 450 K is: 75.51179677196752\n",
      "The difference (in degree) is (UN-correcte - corrected): 0.8734130838161889\n"
     ]
    }
   ],
   "source": [
    "print (\"The angle of the corrected version for T = 450 K is: \"+str(np.arctan(3.64)*180/np.pi))\n",
    "print (\"The angle of the UN-correct version for T = 450 K is: \"+str(np.arctan(3.87)*180/np.pi))\n",
    "print (\"The difference (in degree) is (UN-correcte - corrected): \"+str(np.arctan(3.87)*180/np.pi-np.arctan(3.64)*180/np.pi))"
   ]
  },
  {
   "cell_type": "code",
   "execution_count": 3,
   "metadata": {},
   "outputs": [
    {
     "name": "stdout",
     "output_type": "stream",
     "text": [
      "The angle of the corrected version for T = 490 K is: 74.22576349886336\n",
      "The angle of the UN-correct version for T = 490 K is: 75.14428322968948\n",
      "The difference (in degree) is (UN-correcte - corrected): 0.9185197308261195\n"
     ]
    }
   ],
   "source": [
    "print (\"The angle of the corrected version for T = 490 K is: \"+str(np.arctan(3.54)*180/np.pi))\n",
    "print (\"The angle of the UN-correct version for T = 490 K is: \"+str(np.arctan(3.77)*180/np.pi))\n",
    "print (\"The difference (in degree) is (UN-correcte - corrected): \"+str(np.arctan(3.77)*180/np.pi-np.arctan(3.54)*180/np.pi))"
   ]
  },
  {
   "cell_type": "code",
   "execution_count": 4,
   "metadata": {},
   "outputs": [
    {
     "name": "stdout",
     "output_type": "stream",
     "text": [
      "The average angle of rotation is (in degree): -0.8959664073211542\n"
     ]
    }
   ],
   "source": [
    "avg_rotation = np.mean([0.8734130838161889, 0.9185197308261195])*(-1) # The \"-1\" is due to the rotation in the oppisite direction\n",
    "print(\"The average angle of rotation is (in degree): {0}\".format(avg_rotation))"
   ]
  },
  {
   "cell_type": "code",
   "execution_count": 5,
   "metadata": {},
   "outputs": [
    {
     "name": "stdout",
     "output_type": "stream",
     "text": [
      "Rotation matrix is: \n",
      "[[ 0.99987774  0.01563693]\n",
      " [-0.01563693  0.99987774]]\n"
     ]
    }
   ],
   "source": [
    "avg_rotation_in_rad = avg_rotation*np.pi/180\n",
    "transform_matrix = np.array([[np.cos(avg_rotation_in_rad), -np.sin(avg_rotation_in_rad)], [np.sin(avg_rotation_in_rad), np.cos(avg_rotation_in_rad)]])\n",
    "print(\"Rotation matrix is: \\n\"+str(transform_matrix))"
   ]
  },
  {
   "cell_type": "code",
   "execution_count": 6,
   "metadata": {},
   "outputs": [
    {
     "data": {
      "text/plain": [
       "-0.01563692648503348"
      ]
     },
     "execution_count": 6,
     "metadata": {},
     "output_type": "execute_result"
    }
   ],
   "source": [
    "transform_matrix[1,0]"
   ]
  },
  {
   "cell_type": "code",
   "execution_count": 7,
   "metadata": {},
   "outputs": [
    {
     "data": {
      "text/plain": [
       "2"
      ]
     },
     "execution_count": 7,
     "metadata": {},
     "output_type": "execute_result"
    }
   ],
   "source": [
    "len(transform_matrix)"
   ]
  },
  {
   "cell_type": "code",
   "execution_count": 8,
   "metadata": {},
   "outputs": [],
   "source": [
    "x= [560.0, 840.0, 1120.0, 1400.0, 1680.0, 1960.0, 2240.0, 2520.0, 2800.0, 5600.0, 8400.0, 11200.0, 14000.0, 16800.0, 19600, 22400, 25200, 28000, 56000]\n",
    "y = [0.01095349799959157, 0.018045809418992073, 0.02613039589546785, 0.03521757397993226, 0.045336565169067165, 0.05652772155589112, 0.06840396324054906, 0.08163907354456637, 0.0970426431748728, 0.32838081450202694, 0.7822694133372321, 1.601251083904066, 3.001987741057821, 5.307034669592005, 8.986184402607337, 14.713599239702873, 23.44252695166395, 36.503400164521466, 1366.7652382492524]"
   ]
  },
  {
   "cell_type": "code",
   "execution_count": 9,
   "metadata": {},
   "outputs": [],
   "source": [
    "points = np.zeros((2, len(x)))\n",
    "points[0][:] = np.array(x)\n",
    "points[1][:] = np.array(y)"
   ]
  },
  {
   "cell_type": "code",
   "execution_count": 10,
   "metadata": {},
   "outputs": [
    {
     "data": {
      "text/plain": [
       "12600"
      ]
     },
     "execution_count": 10,
     "metadata": {},
     "output_type": "execute_result"
    }
   ],
   "source": [
    "900*14"
   ]
  },
  {
   "cell_type": "code",
   "execution_count": 11,
   "metadata": {},
   "outputs": [],
   "source": [
    "y = np.array([])"
   ]
  },
  {
   "cell_type": "code",
   "execution_count": 30,
   "metadata": {},
   "outputs": [],
   "source": [
    "def eta_f_Ai (n : int, f : float) -> float:\n",
    "    a1 = 0.6446930\n",
    "    a2 = 0.22908\n",
    "    a3 = 4.874\n",
    "    minus_a4 = 6.158\n",
    "    tet_minus_F = 0.06\n",
    "    temp = (a1 + a2*np.sqrt( (n-2)/(2*f) )*tet_minus_F)\n",
    "    return (1 + temp**a3)**minus_a4\n",
    "\n",
    "def eta_deltaE_Peff (p_eff : float, ref_T = 450, dE = 2.9) -> float:\n",
    "    # \"pressure\" is the the pressure effect in Pa\n",
    "    # dE is in k cal\n",
    "    factor = (dE*4.18*1000 + p_eff)/(8.413*ref_T)\n",
    "    return np.exp(factor)"
   ]
  },
  {
   "cell_type": "code",
   "execution_count": 13,
   "metadata": {},
   "outputs": [
    {
     "name": "stdout",
     "output_type": "stream",
     "text": [
      "4.471725299935282e-06\n"
     ]
    }
   ],
   "source": [
    "f_term = eta_f_Ai(n=292, f=0.53969)\n",
    "energy_term = eta_deltaE_Peff(p_eff=2881.4369, ref_T=450)\n",
    "eta_infinit = 1.1509127/(592*f_term*energy_term)\n",
    "print(eta_infinit)"
   ]
  },
  {
   "cell_type": "code",
   "execution_count": 14,
   "metadata": {},
   "outputs": [
    {
     "name": "stdout",
     "output_type": "stream",
     "text": [
      "1.7566742241166556e-06\n"
     ]
    }
   ],
   "source": [
    "n_bead = 592 # M2 = \n",
    "viscosity = 1.1509127\n",
    "\n",
    "## f and P_eff are from the table (results form the codes are should be for n/2.\n",
    "#                                   See README.md file)\n",
    "f_term = eta_f_Ai(n=n_bead, f=0.53969)\n",
    "energy_term = eta_deltaE_Peff(p_eff=2881.4369, ref_T=450)\n",
    "eta_infinit = viscosity/(n_bead*f_term*energy_term)\n",
    "print(eta_infinit)"
   ]
  },
  {
   "cell_type": "code",
   "execution_count": 15,
   "metadata": {},
   "outputs": [
    {
     "name": "stdout",
     "output_type": "stream",
     "text": [
      "1.7566742241166559e-06\n"
     ]
    }
   ],
   "source": [
    "n_bead = 1000\n",
    "viscosity = 4.331164\n",
    "\n",
    "f_term = eta_f_Ai(n=n_bead, f=0.546769)\n",
    "energy_term = eta_deltaE_Peff(p_eff=2841.71797, ref_T=450)\n",
    "viscosity = eta_infinit*n_bead * energy_term * f_term\n",
    "\n",
    "eta_infinit = viscosity/(n_bead*f_term*energy_term)\n",
    "print(eta_infinit)\n"
   ]
  },
  {
   "cell_type": "markdown",
   "metadata": {},
   "source": [
    "# $N = N/2$ Rule!:"
   ]
  },
  {
   "cell_type": "markdown",
   "metadata": {},
   "source": [
    "The below calculations are by considering that the resulted values for 1shell.sh are for n = N/2.\n",
    "By this I mean, that for example if we want to calculated the F and P_eff of 1000, we should run 1shell.sh for n = 500\n",
    "I suspect this just ty considereing Table 1 and 2 in the Jeremy's PDF, as it was like this."
   ]
  },
  {
   "cell_type": "code",
   "execution_count": 90,
   "metadata": {},
   "outputs": [
    {
     "name": "stdout",
     "output_type": "stream",
     "text": [
      "[ 515.11948726  748.23478248 2531.78674804]\n",
      "[3.8945799255283264e-07, 1.864791246988907e-07, 4.418678736177785e-09]\n",
      "Mean value of eta_inf is: \n",
      " 1.9345193199596703e-07\n"
     ]
    },
    {
     "data": {
      "image/png": "[encoded data removed]",
      "text/plain": [
       "<Figure size 432x288 with 1 Axes>"
      ]
     },
     "metadata": {
      "needs_background": "light"
     },
     "output_type": "display_data"
    }
   ],
   "source": [
    "# For T = 450:\n",
    "temperature = 450\n",
    "\n",
    "mw  = [14450.75, 20990.38, 71024.72]\n",
    "eta = [4.331164, 1.27944649e+01, 1.86213456e+03]\n",
    "\n",
    "n_beads = np.array(mw)/14.0266\n",
    "n_beads_for_code = n_beads/2\n",
    "print(n_beads_for_code)\n",
    "f_values = [0.5429639, 0.54515, 0.551157]\n",
    "p_eff_values = [2863.11810, 2850.8134, 2816.93823]\n",
    "eta_infinit = []\n",
    "eta_inf_dic = {}\n",
    "for itr in range(len(mw)):\n",
    "\n",
    "    f_term = eta_f_Ai(n=n_beads[itr], f=f_values[itr])\n",
    "    energy_term = eta_deltaE_Peff(p_eff=p_eff_values[itr], ref_T=temperature)\n",
    "    # viscosity = eta_infinit*n_bead * energy_term * f_term\n",
    "\n",
    "    eta_infinit.append(eta[itr]/(n_beads[itr]*f_term*energy_term))\n",
    "\n",
    "print(eta_infinit)\n",
    "eta_inf_dic [temperature] = eta_infinit\n",
    "print('Mean value of eta_inf is: \\n', str(np.mean(eta_infinit)))\n",
    "plt.plot(mw, eta_infinit)\n",
    "plt.xlabel(\"$M_W$\")\n",
    "plt.ylabel(r\"${\\eta}_{\\infty}$\")\n",
    "plt.show()"
   ]
  },
  {
   "cell_type": "code",
   "execution_count": 91,
   "metadata": {},
   "outputs": [
    {
     "name": "stdout",
     "output_type": "stream",
     "text": [
      "[ 513.47432735  745.67001269 2520.42155619]\n",
      "[3.9585879999865013e-07, 1.901936141889454e-07, 4.340633868018704e-09]\n",
      "Mean value of eta_inf is: \n",
      " 1.9679768268520476e-07\n"
     ]
    },
    {
     "data": {
      "image/png": "[encoded data removed]",
      "text/plain": [
       "<Figure size 432x288 with 1 Axes>"
      ]
     },
     "metadata": {
      "needs_background": "light"
     },
     "output_type": "display_data"
    }
   ],
   "source": [
    "# For T = 460:\n",
    "temperature = 460\n",
    "\n",
    "mw  = [14404.598, 20918.43, 70705.89]\n",
    "eta = [3.94072818e+00, 1.15599470e+01, 1.63031419e+03]\n",
    "\n",
    "n_beads = np.array(mw)/14.0266\n",
    "n_beads_for_code = n_beads/2\n",
    "print(n_beads_for_code)\n",
    "\n",
    "f_values = [0.5464287, 0.5486097, 0.5511574]\n",
    "p_eff_values = [2906.83169, 2894.25984, 2859.991618]\n",
    "\n",
    "eta_infinit = []\n",
    "for itr in range(len(mw)):\n",
    "\n",
    "    f_term = eta_f_Ai(n=n_beads[itr], f=f_values[itr])\n",
    "    energy_term = eta_deltaE_Peff(p_eff=p_eff_values[itr], ref_T=temperature)\n",
    "    # viscosity = eta_infinit*n_bead * energy_term * f_term\n",
    "\n",
    "    eta_infinit.append(eta[itr]/(n_beads[itr]*f_term*energy_term))\n",
    "\n",
    "print(eta_infinit)\n",
    "eta_inf_dic [temperature] = eta_infinit\n",
    "print('Mean value of eta_inf is: \\n', str(np.mean(eta_infinit)))\n",
    "plt.plot(mw, eta_infinit)\n",
    "plt.xlabel(\"$M_W$\")\n",
    "plt.ylabel(r\"${\\eta}_{\\infty}$\")\n",
    "plt.show()"
   ]
  },
  {
   "cell_type": "code",
   "execution_count": 92,
   "metadata": {},
   "outputs": [
    {
     "name": "stdout",
     "output_type": "stream",
     "text": [
      "[ 511.89204797  743.19883079 2509.4263756 ]\n",
      "[4.023561937900493e-07, 1.9389822335962244e-07, 4.697670567848434e-09]\n",
      "Mean value of eta_inf is: \n",
      " 2.003173625725067e-07\n"
     ]
    },
    {
     "data": {
      "image/png": "[encoded data removed]",
      "text/plain": [
       "<Figure size 432x288 with 1 Axes>"
      ]
     },
     "metadata": {
      "needs_background": "light"
     },
     "output_type": "display_data"
    }
   ],
   "source": [
    "# For T = 470:\n",
    "temperature = 470\n",
    "\n",
    "mw  = [14360.21, 20849.10544, 70397.44]\n",
    "eta = [3.59724777e+00, 1.04798416e+01, 1.43272387e+03]\n",
    "\n",
    "n_beads = np.array(mw)/14.0266\n",
    "n_beads_for_code = n_beads/2\n",
    "print(n_beads_for_code)\n",
    "\n",
    "f_values = [0.549958871, 0.5520889979, 0.5579329486]\n",
    "p_eff_values = [2949.2175786, 2936.6246532, 2901.929568]\n",
    "\n",
    "eta_infinit = []\n",
    "for itr in range(len(mw)):\n",
    "\n",
    "    f_term = eta_f_Ai(n=n_beads[itr], f=f_values[itr])\n",
    "    energy_term = eta_deltaE_Peff(p_eff=p_eff_values[itr], ref_T=temperature)\n",
    "    # viscosity = eta_infinit*n_bead * energy_term * f_term\n",
    "\n",
    "    eta_infinit.append(eta[itr]/(n_beads[itr]*f_term*energy_term))\n",
    "\n",
    "print(eta_infinit)\n",
    "eta_inf_dic [temperature] = eta_infinit\n",
    "print('Mean value of eta_inf is: \\n', str(np.mean(eta_infinit)))\n",
    "plt.plot(mw, eta_infinit)\n",
    "plt.xlabel(\"$M_W$\")\n",
    "plt.ylabel(r\"${\\eta}_{\\infty}$\")\n",
    "plt.show()"
   ]
  },
  {
   "cell_type": "code",
   "execution_count": 93,
   "metadata": {},
   "outputs": [
    {
     "name": "stdout",
     "output_type": "stream",
     "text": [
      "[ 510.36958351  740.82029858 2498.77874895]\n",
      "[4.0883005266502745e-07, 1.9758585463814843e-07, 4.840401549316161e-09]\n",
      "Mean value of eta_inf is: \n",
      " 2.0375210295083068e-07\n"
     ]
    },
    {
     "data": {
      "image/png": "[encoded data removed]",
      "text/plain": [
       "<Figure size 432x288 with 1 Axes>"
      ]
     },
     "metadata": {
      "needs_background": "light"
     },
     "output_type": "display_data"
    }
   ],
   "source": [
    "# For T = 480:\n",
    "temperature = 480\n",
    "\n",
    "mw  = [14317.50, 20782.38, 70098.74]\n",
    "eta = [3.29413136, 9.53167563e+00, 1.26355264e+03]\n",
    "\n",
    "n_beads = np.array(mw)/14.0266\n",
    "n_beads_for_code = n_beads/2\n",
    "print(n_beads_for_code)\n",
    "\n",
    "f_values = [0.55350201500, 0.555577799, 0.56136345466]\n",
    "p_eff_values = [2990.5586586, 2977.9789254, 2942.77108946]\n",
    "\n",
    "eta_infinit = []\n",
    "for itr in range(len(mw)):\n",
    "\n",
    "    f_term = eta_f_Ai(n=n_beads[itr], f=f_values[itr])\n",
    "    energy_term = eta_deltaE_Peff(p_eff=p_eff_values[itr], ref_T=temperature)\n",
    "    # viscosity = eta_infinit*n_bead * energy_term * f_term\n",
    "\n",
    "    eta_infinit.append(eta[itr]/(n_beads[itr]*f_term*energy_term))\n",
    "\n",
    "print(eta_infinit)\n",
    "eta_inf_dic [temperature] = eta_infinit\n",
    "print('Mean value of eta_inf is: \\n', str(np.mean(eta_infinit)))\n",
    "plt.plot(mw, eta_infinit)\n",
    "plt.xlabel(\"$M_W$\")\n",
    "plt.ylabel(r\"${\\eta}_{\\infty}$\")\n",
    "plt.show()"
   ]
  },
  {
   "cell_type": "code",
   "execution_count": 95,
   "metadata": {},
   "outputs": [
    {
     "name": "stdout",
     "output_type": "stream",
     "text": [
      "[ 506.52367644  689.82041264 3987.98728313]\n",
      "[6.274171180049805e-07, 2.6310723115778074e-07, 1.0600498285614917e-09]\n",
      "Mean value of eta_inf is: \n",
      " 2.9719479966377427e-07\n"
     ]
    },
    {
     "data": {
      "image/png": "[encoded data removed]",
      "text/plain": [
       "<Figure size 432x288 with 1 Axes>"
      ]
     },
     "metadata": {
      "needs_background": "light"
     },
     "output_type": "display_data"
    }
   ],
   "source": [
    "# For T = 490:\n",
    "temperature = 490\n",
    "\n",
    "mw  = [14209.61, 19351.67, 111875.804851]\n",
    "eta = [4.47934755e+00, 7.98464483e+00, 2.11928981e+04]\n",
    "\n",
    "n_beads = np.array(mw)/14.0266\n",
    "n_beads_for_code = n_beads/2\n",
    "print(n_beads_for_code)\n",
    "\n",
    "f_values = [0.557040978, 0.5587375239, 0.56465039144]\n",
    "p_eff_values = [3030.951278, 3020.41849223, 2983.563121969]\n",
    "\n",
    "eta_infinit = []\n",
    "for itr in range(len(mw)):\n",
    "\n",
    "    f_term = eta_f_Ai(n=n_beads[itr], f=f_values[itr])\n",
    "    energy_term = eta_deltaE_Peff(p_eff=p_eff_values[itr], ref_T=temperature)\n",
    "    # viscosity = eta_infinit*n_bead * energy_term * f_term\n",
    "\n",
    "    eta_infinit.append(eta[itr]/(n_beads[itr]*f_term*energy_term))\n",
    "\n",
    "print(eta_infinit)\n",
    "eta_inf_dic [temperature] = eta_infinit\n",
    "print('Mean value of eta_inf is: \\n', str(np.mean(eta_infinit)))\n",
    "plt.plot(mw, eta_infinit)\n",
    "plt.xlabel(\"$M_W$\")\n",
    "plt.ylabel(r\"${\\eta}_{\\infty}$\")\n",
    "plt.show()"
   ]
  },
  {
   "cell_type": "code",
   "execution_count": 96,
   "metadata": {},
   "outputs": [
    {
     "data": {
      "text/plain": [
       "{450: [3.8945799255283264e-07, 1.864791246988907e-07, 4.418678736177785e-09],\n",
       " 460: [3.9585879999865013e-07, 1.901936141889454e-07, 4.340633868018704e-09],\n",
       " 470: [4.023561937900493e-07, 1.9389822335962244e-07, 4.697670567848434e-09],\n",
       " 480: [4.0883005266502745e-07, 1.9758585463814843e-07, 4.840401549316161e-09],\n",
       " 490: [6.274171180049805e-07, 2.6310723115778074e-07, 1.0600498285614917e-09]}"
      ]
     },
     "execution_count": 96,
     "metadata": {},
     "output_type": "execute_result"
    }
   ],
   "source": [
    "eta_inf_dic"
   ]
  },
  {
   "cell_type": "code",
   "execution_count": 97,
   "metadata": {},
   "outputs": [
    {
     "name": "stdout",
     "output_type": "stream",
     "text": [
      "Overall mean value for eta_inf is:\n",
      "2.183027759736567e-07\n"
     ]
    }
   ],
   "source": [
    "print(\"Overall mean value for eta_inf is:\")\n",
    "print(np.mean(list(eta_inf_dic.values())))"
   ]
  },
  {
   "cell_type": "markdown",
   "metadata": {},
   "source": [
    "# Without considering $N = N/2$ Rule."
   ]
  },
  {
   "cell_type": "markdown",
   "metadata": {},
   "source": [
    "Here, any calculations for the polymer with length of N (by 1shell.sh), is for N!"
   ]
  },
  {
   "cell_type": "code",
   "execution_count": 98,
   "metadata": {},
   "outputs": [
    {
     "name": "stdout",
     "output_type": "stream",
     "text": [
      "[1030.23897452 1496.46956497 5063.57349607]\n"
     ]
    }
   ],
   "source": [
    "# For T = 450:\n",
    "temperature = 450\n",
    "\n",
    "mw  = [14450.75, 20990.38, 71024.72]\n",
    "eta = [4.331164, 1.27944649e+01, 1.86213456e+03]\n",
    "\n",
    "n_beads = np.array(mw)/14.0266\n",
    "# n_beads_for_code = n_beads/2\n",
    "print(n_beads)\n",
    "f_values = [0.5429639, 0.54515, 0.551157]\n",
    "p_eff_values = [2863.11810, 2850.8134, 2816.93823]\n",
    "eta_infinit = []\n",
    "eta_inf_dic = {}\n",
    "for itr in range(len(mw)):\n",
    "\n",
    "    f_term = eta_f_Ai(n=n_beads[itr], f=f_values[itr])\n",
    "    energy_term = eta_deltaE_Peff(p_eff=p_eff_values[itr], ref_T=temperature)\n",
    "    # viscosity = eta_infinit*n_bead * energy_term * f_term\n",
    "\n",
    "    eta_infinit.append(eta[itr]/(n_beads[itr]*f_term*energy_term))\n",
    "\n",
    "# print(eta_infinit)\n",
    "# eta_inf_dic [temperature] = eta_infinit\n",
    "# print('Mean value of eta_inf is: \\n', str(np.mean(eta_infinit)))\n",
    "# plt.plot(mw, eta_infinit)\n",
    "# plt.xlabel(\"$M_W$\")\n",
    "# plt.ylabel(r\"${\\eta}_{\\infty}$\")\n",
    "# plt.show()"
   ]
  },
  {
   "cell_type": "code",
   "execution_count": null,
   "metadata": {},
   "outputs": [],
   "source": []
  }
 ],
 "metadata": {
  "interpreter": {
   "hash": "f66168a065ac0c71b316e6d66d97e9785fa3fae7de673d3fe77b7b3dd2554caf"
  },
  "kernelspec": {
   "display_name": "Python 3.7.11 64-bit ('starterENV': conda)",
   "language": "python",
   "name": "python3"
  },
  "language_info": {
   "codemirror_mode": {
    "name": "ipython",
    "version": 3
   },
   "file_extension": ".py",
   "mimetype": "text/x-python",
   "name": "python",
   "nbconvert_exporter": "python",
   "pygments_lexer": "ipython3",
   "version": "3.7.11"
  },
  "orig_nbformat": 4
 },
 "nbformat": 4,
 "nbformat_minor": 2
}
