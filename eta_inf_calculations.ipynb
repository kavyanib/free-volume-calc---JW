{
 "cells": [
  {
   "cell_type": "code",
   "execution_count": 148,
   "metadata": {},
   "outputs": [],
   "source": [
    "import numpy as np\n",
    "import matplotlib.pyplot as plt\n",
    "%matplotlib inline"
   ]
  },
  {
   "cell_type": "code",
   "execution_count": 149,
   "metadata": {},
   "outputs": [],
   "source": [
    "def eta_f_Ai (n : int, f : float) -> float:\n",
    "    a1 = 0.6446930\n",
    "    a2 = 0.22908\n",
    "    a3 = 4.874\n",
    "    minus_a4 = 6.158\n",
    "    tet_minus_F = 0.06\n",
    "    temp = (a1 + a2*np.sqrt( (n-2)/(2*f) )*tet_minus_F)\n",
    "    return (1 + temp**a3)**minus_a4\n",
    "\n",
    "def eta_deltaE_Peff (p_eff : float, ref_T = 450, dE = 2.9) -> float:\n",
    "    # \"pressure\" is the the pressure effect in Pa\n",
    "    # dE is in k cal\n",
    "    factor = (dE*4.18*1000 + p_eff)/(8.413*ref_T)\n",
    "    return np.exp(factor)"
   ]
  },
  {
   "cell_type": "code",
   "execution_count": 150,
   "metadata": {},
   "outputs": [
    {
     "name": "stdout",
     "output_type": "stream",
     "text": [
      "2.9539855369970607e-06\n"
     ]
    }
   ],
   "source": [
    "f_term = eta_f_Ai(n=292, f=0.53969)\n",
    "energy_term = eta_deltaE_Peff(p_eff=2881.4369, ref_T=450)\n",
    "eta_infinit = 1.1509127/(592*f_term*energy_term)\n",
    "print(eta_infinit)"
   ]
  },
  {
   "cell_type": "code",
   "execution_count": 151,
   "metadata": {},
   "outputs": [
    {
     "name": "stdout",
     "output_type": "stream",
     "text": [
      "8.502617114822596e-07\n"
     ]
    }
   ],
   "source": [
    "n_bead = 592 # M2 = \n",
    "viscosity = 1.1509127\n",
    "\n",
    "## f and P_eff are from the table (results form the codes are should be for n/2.\n",
    "#                                   See README.md file)\n",
    "f_term = eta_f_Ai(n=n_bead, f=0.53969)\n",
    "energy_term = eta_deltaE_Peff(p_eff=2881.4369, ref_T=450)\n",
    "eta_infinit = viscosity/(n_bead*f_term*energy_term)\n",
    "print(eta_infinit)"
   ]
  },
  {
   "cell_type": "code",
   "execution_count": 152,
   "metadata": {},
   "outputs": [
    {
     "name": "stdout",
     "output_type": "stream",
     "text": [
      "8.502617114822595e-07\n"
     ]
    }
   ],
   "source": [
    "n_bead = 1000\n",
    "viscosity = 4.331164\n",
    "\n",
    "f_term = eta_f_Ai(n=n_bead, f=0.546769)\n",
    "energy_term = eta_deltaE_Peff(p_eff=2841.71797, ref_T=450)\n",
    "viscosity = eta_infinit*n_bead * energy_term * f_term\n",
    "\n",
    "eta_infinit = viscosity/(n_bead*f_term*energy_term)\n",
    "print(eta_infinit)\n"
   ]
  },
  {
   "cell_type": "markdown",
   "metadata": {},
   "source": [
    "# $N = N/2$ Rule!:"
   ]
  },
  {
   "cell_type": "markdown",
   "metadata": {},
   "source": [
    "The below calculations are by considering that the resulted values for 1shell.sh are for n = N/2.\n",
    "By this I mean, that for example if we want to calculated the F and P_eff of 1000, we should run 1shell.sh for n = 500\n",
    "I suspect this just ty considereing Table 1 and 2 in the Jeremy's PDF, as it was like this."
   ]
  },
  {
   "cell_type": "code",
   "execution_count": 153,
   "metadata": {},
   "outputs": [
    {
     "name": "stdout",
     "output_type": "stream",
     "text": [
      "[ 515.11948726  748.23478248 2531.78674804]\n",
      "[3.8945799255283264e-07, 1.864791246988907e-07, 4.418678736177785e-09]\n",
      "Mean value of eta_inf is: \n",
      " 1.9345193199596703e-07\n"
     ]
    },
    {
     "data": {
      "image/png": "[encoded data removed]",
      "text/plain": [
       "<Figure size 432x288 with 1 Axes>"
      ]
     },
     "metadata": {
      "needs_background": "light"
     },
     "output_type": "display_data"
    }
   ],
   "source": [
    "# For T = 450:\n",
    "temperature = 450\n",
    "\n",
    "mw  = [14450.75, 20990.38, 71024.72]\n",
    "eta = [4.331164, 1.27944649e+01, 1.86213456e+03]\n",
    "\n",
    "n_beads = np.array(mw)/14.0266\n",
    "n_beads_for_code = n_beads/2\n",
    "print(n_beads_for_code)\n",
    "f_values = [0.5429639, 0.54515, 0.551157]\n",
    "p_eff_values = [2863.11810, 2850.8134, 2816.93823]\n",
    "eta_infinit = []\n",
    "eta_inf_dic = {}\n",
    "for itr in range(len(mw)):\n",
    "\n",
    "    f_term = eta_f_Ai(n=n_beads[itr], f=f_values[itr])\n",
    "    energy_term = eta_deltaE_Peff(p_eff=p_eff_values[itr], ref_T=temperature)\n",
    "    # viscosity = eta_infinit*n_bead * energy_term * f_term\n",
    "\n",
    "    eta_infinit.append(eta[itr]/(n_beads[itr]*f_term*energy_term))\n",
    "\n",
    "print(eta_infinit)\n",
    "eta_inf_dic [temperature] = eta_infinit\n",
    "print('Mean value of eta_inf is: \\n', str(np.mean(eta_infinit)))\n",
    "plt.plot(mw, eta_infinit)\n",
    "plt.xlabel(\"$M_W$\")\n",
    "plt.ylabel(r\"${\\eta}_{\\infty}$\")\n",
    "plt.show()"
   ]
  },
  {
   "cell_type": "code",
   "execution_count": 154,
   "metadata": {},
   "outputs": [
    {
     "name": "stdout",
     "output_type": "stream",
     "text": [
      "[ 513.47432735  745.67001269 2520.42155619]\n",
      "[3.9585879999865013e-07, 1.901936141889454e-07, 4.340633868018704e-09]\n",
      "Mean value of eta_inf is: \n",
      " 1.9679768268520476e-07\n"
     ]
    },
    {
     "data": {
      "image/png": "[encoded data removed]",
      "text/plain": [
       "<Figure size 432x288 with 1 Axes>"
      ]
     },
     "metadata": {
      "needs_background": "light"
     },
     "output_type": "display_data"
    }
   ],
   "source": [
    "# For T = 460:\n",
    "temperature = 460\n",
    "\n",
    "mw  = [14404.598, 20918.43, 70705.89]\n",
    "eta = [3.94072818e+00, 1.15599470e+01, 1.63031419e+03]\n",
    "\n",
    "n_beads = np.array(mw)/14.0266\n",
    "n_beads_for_code = n_beads/2\n",
    "print(n_beads_for_code)\n",
    "\n",
    "f_values = [0.5464287, 0.5486097, 0.5511574]\n",
    "p_eff_values = [2906.83169, 2894.25984, 2859.991618]\n",
    "\n",
    "eta_infinit = []\n",
    "for itr in range(len(mw)):\n",
    "\n",
    "    f_term = eta_f_Ai(n=n_beads[itr], f=f_values[itr])\n",
    "    energy_term = eta_deltaE_Peff(p_eff=p_eff_values[itr], ref_T=temperature)\n",
    "    # viscosity = eta_infinit*n_bead * energy_term * f_term\n",
    "\n",
    "    eta_infinit.append(eta[itr]/(n_beads[itr]*f_term*energy_term))\n",
    "\n",
    "print(eta_infinit)\n",
    "eta_inf_dic [temperature] = eta_infinit\n",
    "print('Mean value of eta_inf is: \\n', str(np.mean(eta_infinit)))\n",
    "plt.plot(mw, eta_infinit)\n",
    "plt.xlabel(\"$M_W$\")\n",
    "plt.ylabel(r\"${\\eta}_{\\infty}$\")\n",
    "plt.show()"
   ]
  },
  {
   "cell_type": "code",
   "execution_count": 155,
   "metadata": {},
   "outputs": [
    {
     "name": "stdout",
     "output_type": "stream",
     "text": [
      "[ 511.89204797  743.19883079 2509.4263756 ]\n",
      "[4.023561937900493e-07, 1.9389822335962244e-07, 4.697670567848434e-09]\n",
      "Mean value of eta_inf is: \n",
      " 2.003173625725067e-07\n"
     ]
    },
    {
     "data": {
      "image/png": "[encoded data removed]",
      "text/plain": [
       "<Figure size 432x288 with 1 Axes>"
      ]
     },
     "metadata": {
      "needs_background": "light"
     },
     "output_type": "display_data"
    }
   ],
   "source": [
    "# For T = 470:\n",
    "temperature = 470\n",
    "\n",
    "mw  = [14360.21, 20849.10544, 70397.44]\n",
    "eta = [3.59724777e+00, 1.04798416e+01, 1.43272387e+03]\n",
    "\n",
    "n_beads = np.array(mw)/14.0266\n",
    "n_beads_for_code = n_beads/2\n",
    "print(n_beads_for_code)\n",
    "\n",
    "f_values = [0.549958871, 0.5520889979, 0.5579329486]\n",
    "p_eff_values = [2949.2175786, 2936.6246532, 2901.929568]\n",
    "\n",
    "eta_infinit = []\n",
    "for itr in range(len(mw)):\n",
    "\n",
    "    f_term = eta_f_Ai(n=n_beads[itr], f=f_values[itr])\n",
    "    energy_term = eta_deltaE_Peff(p_eff=p_eff_values[itr], ref_T=temperature)\n",
    "    # viscosity = eta_infinit*n_bead * energy_term * f_term\n",
    "\n",
    "    eta_infinit.append(eta[itr]/(n_beads[itr]*f_term*energy_term))\n",
    "\n",
    "print(eta_infinit)\n",
    "eta_inf_dic [temperature] = eta_infinit\n",
    "print('Mean value of eta_inf is: \\n', str(np.mean(eta_infinit)))\n",
    "plt.plot(mw, eta_infinit)\n",
    "plt.xlabel(\"$M_W$\")\n",
    "plt.ylabel(r\"${\\eta}_{\\infty}$\")\n",
    "plt.show()"
   ]
  },
  {
   "cell_type": "code",
   "execution_count": 156,
   "metadata": {},
   "outputs": [
    {
     "name": "stdout",
     "output_type": "stream",
     "text": [
      "[ 510.36958351  740.82029858 2498.77874895]\n",
      "[4.0883005266502745e-07, 1.9758585463814843e-07, 4.840401549316161e-09]\n",
      "Mean value of eta_inf is: \n",
      " 2.0375210295083068e-07\n"
     ]
    },
    {
     "data": {
      "image/png": "[encoded data removed]",
      "text/plain": [
       "<Figure size 432x288 with 1 Axes>"
      ]
     },
     "metadata": {
      "needs_background": "light"
     },
     "output_type": "display_data"
    }
   ],
   "source": [
    "# For T = 480:\n",
    "temperature = 480\n",
    "\n",
    "mw  = [14317.50, 20782.38, 70098.74]\n",
    "eta = [3.29413136, 9.53167563e+00, 1.26355264e+03]\n",
    "\n",
    "n_beads = np.array(mw)/14.0266\n",
    "n_beads_for_code = n_beads/2\n",
    "print(n_beads_for_code)\n",
    "\n",
    "f_values = [0.55350201500, 0.555577799, 0.56136345466]\n",
    "p_eff_values = [2990.5586586, 2977.9789254, 2942.77108946]\n",
    "\n",
    "eta_infinit = []\n",
    "for itr in range(len(mw)):\n",
    "\n",
    "    f_term = eta_f_Ai(n=n_beads[itr], f=f_values[itr])\n",
    "    energy_term = eta_deltaE_Peff(p_eff=p_eff_values[itr], ref_T=temperature)\n",
    "    # viscosity = eta_infinit*n_bead * energy_term * f_term\n",
    "\n",
    "    eta_infinit.append(eta[itr]/(n_beads[itr]*f_term*energy_term))\n",
    "\n",
    "print(eta_infinit)\n",
    "eta_inf_dic [temperature] = eta_infinit\n",
    "print('Mean value of eta_inf is: \\n', str(np.mean(eta_infinit)))\n",
    "plt.plot(mw, eta_infinit)\n",
    "plt.xlabel(\"$M_W$\")\n",
    "plt.ylabel(r\"${\\eta}_{\\infty}$\")\n",
    "plt.show()"
   ]
  },
  {
   "cell_type": "code",
   "execution_count": 157,
   "metadata": {},
   "outputs": [
    {
     "name": "stdout",
     "output_type": "stream",
     "text": [
      "[ 506.52367644  689.82041264 3987.98728313]\n",
      "[6.274171180049805e-07, 2.6310723115778074e-07, 1.0948965127264e-09]\n",
      "Mean value of eta_inf is: \n",
      " 2.9720641522516255e-07\n"
     ]
    },
    {
     "data": {
      "image/png": "[encoded data removed]",
      "text/plain": [
       "<Figure size 432x288 with 1 Axes>"
      ]
     },
     "metadata": {
      "needs_background": "light"
     },
     "output_type": "display_data"
    }
   ],
   "source": [
    "# For T = 490:\n",
    "temperature = 490\n",
    "\n",
    "mw  = [14209.61, 19351.67, 111875.804851]\n",
    "eta = [4.47934755e+00, 7.98464483e+00, 2.11928981e+04]\n",
    "\n",
    "n_beads = np.array(mw)/14.0266\n",
    "n_beads_for_code = n_beads/2\n",
    "print(n_beads_for_code)\n",
    "\n",
    "f_values = [0.557040978, 0.5587375239, 0.5664858954]\n",
    "p_eff_values = [3030.951278, 3020.41849223, 2972.07632928]\n",
    "\n",
    "eta_infinit = []\n",
    "for itr in range(len(mw)):\n",
    "\n",
    "    f_term = eta_f_Ai(n=n_beads[itr], f=f_values[itr])\n",
    "    energy_term = eta_deltaE_Peff(p_eff=p_eff_values[itr], ref_T=temperature)\n",
    "    # viscosity = eta_infinit*n_bead * energy_term * f_term\n",
    "\n",
    "    eta_infinit.append(eta[itr]/(n_beads[itr]*f_term*energy_term))\n",
    "\n",
    "print(eta_infinit)\n",
    "eta_inf_dic [temperature] = eta_infinit\n",
    "print('Mean value of eta_inf is: \\n', str(np.mean(eta_infinit)))\n",
    "plt.plot(mw, eta_infinit)\n",
    "plt.xlabel(\"$M_W$\")\n",
    "plt.ylabel(r\"${\\eta}_{\\infty}$\")\n",
    "plt.show()"
   ]
  },
  {
   "cell_type": "code",
   "execution_count": 158,
   "metadata": {},
   "outputs": [
    {
     "data": {
      "text/plain": [
       "{450: [3.8945799255283264e-07, 1.864791246988907e-07, 4.418678736177785e-09],\n",
       " 460: [3.9585879999865013e-07, 1.901936141889454e-07, 4.340633868018704e-09],\n",
       " 470: [4.023561937900493e-07, 1.9389822335962244e-07, 4.697670567848434e-09],\n",
       " 480: [4.0883005266502745e-07, 1.9758585463814843e-07, 4.840401549316161e-09],\n",
       " 490: [6.274171180049805e-07, 2.6310723115778074e-07, 1.0948965127264e-09]}"
      ]
     },
     "execution_count": 158,
     "metadata": {},
     "output_type": "execute_result"
    }
   ],
   "source": [
    "eta_inf_dic"
   ]
  },
  {
   "cell_type": "code",
   "execution_count": 159,
   "metadata": {},
   "outputs": [
    {
     "name": "stdout",
     "output_type": "stream",
     "text": [
      "Overall mean value for eta_inf is:\n",
      "2.1830509908593436e-07\n"
     ]
    }
   ],
   "source": [
    "print(\"Overall mean value for eta_inf is:\")\n",
    "print(np.mean(list(eta_inf_dic.values())))"
   ]
  },
  {
   "cell_type": "markdown",
   "metadata": {},
   "source": [
    "# Without considering $N = N/2$ Rule."
   ]
  },
  {
   "cell_type": "markdown",
   "metadata": {},
   "source": [
    "Here, any calculations for the polymer with length of N (by 1shell.sh), is for N!"
   ]
  },
  {
   "cell_type": "code",
   "execution_count": 160,
   "metadata": {},
   "outputs": [
    {
     "name": "stdout",
     "output_type": "stream",
     "text": [
      "[1030.23897452 1496.46956497 5063.57349607]\n",
      "[4.016687782453041e-07, 1.931445514780291e-07, 4.594100292358294e-09]\n",
      "Mean value of eta_inf is: \n",
      " 1.9980247667189717e-07\n"
     ]
    },
    {
     "data": {
      "image/png": "[encoded data removed]",
      "text/plain": [
       "<Figure size 432x288 with 1 Axes>"
      ]
     },
     "metadata": {
      "needs_background": "light"
     },
     "output_type": "display_data"
    }
   ],
   "source": [
    "# For T = 450:\n",
    "temperature = 450\n",
    "\n",
    "mw  = [14450.75, 20990.38, 71024.72]\n",
    "eta = [4.331164, 1.27944649e+01, 1.86213456e+03]\n",
    "\n",
    "n_beads = np.array(mw)/14.0266\n",
    "# n_beads_for_code = n_beads/2\n",
    "print(n_beads)\n",
    "f_values = [0.546928663899, 0.54882875360, 0.5535956922]\n",
    "p_eff_values = [2840.82328870, 2830.1045495, 2803.11707720]\n",
    "eta_infinit = []\n",
    "eta_inf_dic_noN = {}\n",
    "for itr in range(len(mw)):\n",
    "\n",
    "    f_term = eta_f_Ai(n=n_beads[itr], f=f_values[itr])\n",
    "    energy_term = eta_deltaE_Peff(p_eff=p_eff_values[itr], ref_T=temperature)\n",
    "    # viscosity = eta_infinit*n_bead * energy_term * f_term\n",
    "\n",
    "    eta_infinit.append(eta[itr]/(n_beads[itr]*f_term*energy_term))\n",
    "\n",
    "print(eta_infinit)\n",
    "eta_inf_dic_noN [temperature] = eta_infinit\n",
    "print('Mean value of eta_inf is: \\n', str(np.mean(eta_infinit)))\n",
    "plt.plot(mw, eta_infinit)\n",
    "plt.xlabel(\"$M_W$\")\n",
    "plt.ylabel(r\"${\\eta}_{\\infty}$\")\n",
    "plt.show()"
   ]
  },
  {
   "cell_type": "code",
   "execution_count": 161,
   "metadata": {},
   "outputs": [
    {
     "name": "stdout",
     "output_type": "stream",
     "text": [
      "[1026.9486547  1491.34002538 5040.84311237]\n",
      "[4.0803077247050857e-07, 1.9681732570625406e-07, 4.734851487050761e-09]\n",
      "Mean value of eta_inf is: \n",
      " 2.0319431655460448e-07\n"
     ]
    },
    {
     "data": {
      "image/png": "[encoded data removed]",
      "text/plain": [
       "<Figure size 432x288 with 1 Axes>"
      ]
     },
     "metadata": {
      "needs_background": "light"
     },
     "output_type": "display_data"
    }
   ],
   "source": [
    "# For T = 460:\n",
    "temperature = 460\n",
    "\n",
    "mw  = [14404.598, 20918.43, 70705.89]\n",
    "eta = [3.94072818e+00, 1.15599470e+01, 1.63031419e+03]\n",
    "\n",
    "n_beads = np.array(mw)/14.0266\n",
    "# n_beads_for_code = n_beads/2\n",
    "print(n_beads)\n",
    "\n",
    "f_values = [0.5503565297, 0.55223070926, 0.55694742186]\n",
    "p_eff_values = [2884.1695325, 2873.3223358, 2845.92759185]\n",
    "\n",
    "eta_infinit = []\n",
    "for itr in range(len(mw)):\n",
    "\n",
    "    f_term = eta_f_Ai(n=n_beads[itr], f=f_values[itr])\n",
    "    energy_term = eta_deltaE_Peff(p_eff=p_eff_values[itr], ref_T=temperature)\n",
    "    # viscosity = eta_infinit*n_bead * energy_term * f_term\n",
    "\n",
    "    eta_infinit.append(eta[itr]/(n_beads[itr]*f_term*energy_term))\n",
    "\n",
    "print(eta_infinit)\n",
    "eta_inf_dic_noN [temperature] = eta_infinit\n",
    "print('Mean value of eta_inf is: \\n', str(np.mean(eta_infinit)))\n",
    "plt.plot(mw, eta_infinit)\n",
    "plt.xlabel(\"$M_W$\")\n",
    "plt.ylabel(r\"${\\eta}_{\\infty}$\")\n",
    "plt.show()"
   ]
  },
  {
   "cell_type": "code",
   "execution_count": 162,
   "metadata": {},
   "outputs": [
    {
     "name": "stdout",
     "output_type": "stream",
     "text": [
      "[1023.78409593 1486.39766159 5018.8527512 ]\n",
      "[4.143819335694521e-07, 2.0049690911810592e-07, 4.877842115169424e-09]\n",
      "Mean value of eta_inf is: \n",
      " 2.0658556160090912e-07\n"
     ]
    },
    {
     "data": {
      "image/png": "[encoded data removed]",
      "text/plain": [
       "<Figure size 432x288 with 1 Axes>"
      ]
     },
     "metadata": {
      "needs_background": "light"
     },
     "output_type": "display_data"
    }
   ],
   "source": [
    "# For T = 470:\n",
    "temperature = 470\n",
    "\n",
    "mw  = [14360.21, 20849.10544, 70397.44]\n",
    "eta = [3.59724777e+00, 1.04798416e+01, 1.43272387e+03]\n",
    "\n",
    "n_beads = np.array(mw)/14.0266\n",
    "# n_beads_for_code = n_beads/2\n",
    "print(n_beads)\n",
    "\n",
    "f_values = [0.55381604065, 0.5556637772, 0.56033074787]\n",
    "p_eff_values = [2926.393671499, 2915.42692389, 2887.63214549]\n",
    "\n",
    "eta_infinit = []\n",
    "for itr in range(len(mw)):\n",
    "\n",
    "    f_term = eta_f_Ai(n=n_beads[itr], f=f_values[itr])\n",
    "    energy_term = eta_deltaE_Peff(p_eff=p_eff_values[itr], ref_T=temperature)\n",
    "    # viscosity = eta_infinit*n_bead * energy_term * f_term\n",
    "\n",
    "    eta_infinit.append(eta[itr]/(n_beads[itr]*f_term*energy_term))\n",
    "\n",
    "print(eta_infinit)\n",
    "eta_inf_dic_noN [temperature] = eta_infinit\n",
    "print('Mean value of eta_inf is: \\n', str(np.mean(eta_infinit)))\n",
    "plt.plot(mw, eta_infinit)\n",
    "plt.xlabel(\"$M_W$\")\n",
    "plt.ylabel(r\"${\\eta}_{\\infty}$\")\n",
    "plt.show()"
   ]
  },
  {
   "cell_type": "code",
   "execution_count": 163,
   "metadata": {},
   "outputs": [
    {
     "name": "stdout",
     "output_type": "stream",
     "text": [
      "[1020.73916701 1481.64059715 4997.5574979 ]\n",
      "[4.207401367483469e-07, 2.0419107454976913e-07, 5.022677398865329e-09]\n",
      "Mean value of eta_inf is: \n",
      " 2.0998462956566042e-07\n"
     ]
    },
    {
     "data": {
      "image/png": "[encoded data removed]",
      "text/plain": [
       "<Figure size 432x288 with 1 Axes>"
      ]
     },
     "metadata": {
      "needs_background": "light"
     },
     "output_type": "display_data"
    }
   ],
   "source": [
    "# For T = 480:\n",
    "temperature = 480\n",
    "\n",
    "mw  = [14317.50, 20782.38, 70098.74]\n",
    "eta = [3.29413136, 9.53167563e+00, 1.26355264e+03]\n",
    "\n",
    "n_beads = np.array(mw)/14.0266\n",
    "# n_beads_for_code = n_beads/2\n",
    "print(n_beads)\n",
    "\n",
    "f_values = [0.55729962829, 0.559124804709, 0.563738519665]\n",
    "p_eff_values = [2967.5232931, 2956.4194103, 2928.25630626]\n",
    "\n",
    "eta_infinit = []\n",
    "for itr in range(len(mw)):\n",
    "\n",
    "    f_term = eta_f_Ai(n=n_beads[itr], f=f_values[itr])\n",
    "    energy_term = eta_deltaE_Peff(p_eff=p_eff_values[itr], ref_T=temperature)\n",
    "    # viscosity = eta_infinit*n_bead * energy_term * f_term\n",
    "\n",
    "    eta_infinit.append(eta[itr]/(n_beads[itr]*f_term*energy_term))\n",
    "\n",
    "print(eta_infinit)\n",
    "eta_inf_dic_noN [temperature] = eta_infinit\n",
    "print('Mean value of eta_inf is: \\n', str(np.mean(eta_infinit)))\n",
    "plt.plot(mw, eta_infinit)\n",
    "plt.xlabel(\"$M_W$\")\n",
    "plt.ylabel(r\"${\\eta}_{\\infty}$\")\n",
    "plt.show()"
   ]
  },
  {
   "cell_type": "code",
   "execution_count": 164,
   "metadata": {},
   "outputs": [
    {
     "name": "stdout",
     "output_type": "stream",
     "text": [
      "[1013.04735289 1379.64082529 7975.97456625]\n",
      "[6.451714368008345e-07, 2.7150305651944156e-07, 1.1302448368415918e-09]\n",
      "Mean value of eta_inf is: \n",
      " 3.059349127190392e-07\n"
     ]
    },
    {
     "data": {
      "image/png": "[encoded data removed]",
      "text/plain": [
       "<Figure size 432x288 with 1 Axes>"
      ]
     },
     "metadata": {
      "needs_background": "light"
     },
     "output_type": "display_data"
    }
   ],
   "source": [
    "# For T = 490:\n",
    "temperature = 490\n",
    "\n",
    "mw  = [14209.61, 19351.67, 111875.804851]\n",
    "eta = [4.47934755e+00, 7.98464483e+00, 2.11928981e+04]\n",
    "\n",
    "n_beads = np.array(mw)/14.0266\n",
    "# n_beads_for_code = n_beads/2\n",
    "print(n_beads)\n",
    "\n",
    "f_values = [0.560776688694, 0.56228554624, 0.5682955001]\n",
    "p_eff_values = [3007.733815116, 2998.3305578, 2960.73041135]\n",
    "\n",
    "eta_infinit = []\n",
    "for itr in range(len(mw)):\n",
    "\n",
    "    f_term = eta_f_Ai(n=n_beads[itr], f=f_values[itr])\n",
    "    energy_term = eta_deltaE_Peff(p_eff=p_eff_values[itr], ref_T=temperature)\n",
    "    # viscosity = eta_infinit*n_bead * energy_term * f_term\n",
    "\n",
    "    eta_infinit.append(eta[itr]/(n_beads[itr]*f_term*energy_term))\n",
    "\n",
    "print(eta_infinit)\n",
    "eta_inf_dic_noN [temperature] = eta_infinit\n",
    "print('Mean value of eta_inf is: \\n', str(np.mean(eta_infinit)))\n",
    "plt.plot(mw, eta_infinit)\n",
    "plt.xlabel(\"$M_W$\")\n",
    "plt.ylabel(r\"${\\eta}_{\\infty}$\")\n",
    "plt.show()"
   ]
  },
  {
   "cell_type": "code",
   "execution_count": 165,
   "metadata": {},
   "outputs": [
    {
     "data": {
      "text/plain": [
       "{450: [3.8945799255283264e-07, 1.864791246988907e-07, 4.418678736177785e-09],\n",
       " 460: [3.9585879999865013e-07, 1.901936141889454e-07, 4.340633868018704e-09],\n",
       " 470: [4.023561937900493e-07, 1.9389822335962244e-07, 4.697670567848434e-09],\n",
       " 480: [4.0883005266502745e-07, 1.9758585463814843e-07, 4.840401549316161e-09],\n",
       " 490: [6.274171180049805e-07, 2.6310723115778074e-07, 1.0948965127264e-09]}"
      ]
     },
     "execution_count": 165,
     "metadata": {},
     "output_type": "execute_result"
    }
   ],
   "source": [
    "eta_inf_dic"
   ]
  },
  {
   "cell_type": "code",
   "execution_count": 166,
   "metadata": {},
   "outputs": [
    {
     "data": {
      "text/plain": [
       "{450: [4.016687782453041e-07, 1.931445514780291e-07, 4.594100292358294e-09],\n",
       " 460: [4.0803077247050857e-07, 1.9681732570625406e-07, 4.734851487050761e-09],\n",
       " 470: [4.143819335694521e-07, 2.0049690911810592e-07, 4.877842115169424e-09],\n",
       " 480: [4.207401367483469e-07, 2.0419107454976913e-07, 5.022677398865329e-09],\n",
       " 490: [6.451714368008345e-07, 2.7150305651944156e-07, 1.1302448368415918e-09]}"
      ]
     },
     "execution_count": 166,
     "metadata": {},
     "output_type": "execute_result"
    }
   ],
   "source": [
    "eta_inf_dic_noN"
   ]
  },
  {
   "cell_type": "code",
   "execution_count": 167,
   "metadata": {},
   "outputs": [
    {
     "name": "stdout",
     "output_type": "stream",
     "text": [
      "Overal average value of eta_inf with N/2 rule: 2.1830509908593436e-07\n",
      "Overal average value of eta_inf without N/2  : 2.2510037942242208e-07\n"
     ]
    }
   ],
   "source": [
    "print(\"Overal average value of eta_inf with N/2 rule: \"+str(np.mean(list(eta_inf_dic.values()))))\n",
    "print(\"Overal average value of eta_inf without N/2  : \"+str(np.mean(list(eta_inf_dic_noN.values()))))"
   ]
  },
  {
   "cell_type": "markdown",
   "metadata": {},
   "source": [
    "# Testing the eta_inf value "
   ]
  },
  {
   "cell_type": "code",
   "execution_count": 168,
   "metadata": {},
   "outputs": [
    {
     "name": "stdout",
     "output_type": "stream",
     "text": [
      "The approximated voscosity is:  92.2301837213608\n",
      "The viscosity from the plot is: 37.1419414\n"
     ]
    }
   ],
   "source": [
    "eta_inf = np.mean(list(eta_inf_dic_noN.values()))\n",
    "\n",
    "eta_inf = eta_inf_dic[450][1]\n",
    "\n",
    "temperature = 480\n",
    "mw = 31093\n",
    "n_beads = int(np.round(mw/14.0266, decimals=0))\n",
    "\n",
    "f_term = eta_f_Ai(n=n_beads, f=0.5608844193)\n",
    "energy_term = eta_deltaE_Peff(p_eff=2945.69429170, ref_T=temperature)\n",
    "\n",
    "viscosity = n_beads*eta_inf*energy_term*f_term\n",
    "print(\"The approximated voscosity is:  \"+str(viscosity))\n",
    "print(\"The viscosity from the plot is: \"+str(3.71419414e+01))"
   ]
  },
  {
   "cell_type": "markdown",
   "metadata": {},
   "source": [
    "        The above result (by changing the eta_inf in the test cell), \n",
    "        shows that the viscosity is a very strong function of eta_inf!\n",
    "        NOW, I am goinf to reverse the correction I have made for `gwdw_2body.py`.\n",
    "                                (reversing the addition of temperature to the entire code)"
   ]
  },
  {
   "cell_type": "markdown",
   "metadata": {},
   "source": [
    "# Without the temperature dependance in `gvdw...py`"
   ]
  },
  {
   "cell_type": "markdown",
   "metadata": {},
   "source": [
    "## With $N=N/2$ Rule! :"
   ]
  },
  {
   "cell_type": "markdown",
   "metadata": {},
   "source": [
    "#### NOTE: For $T = 450$, the results should remain the same since $T = 450$ was already implemented."
   ]
  },
  {
   "cell_type": "code",
   "execution_count": 169,
   "metadata": {},
   "outputs": [],
   "source": [
    "eta_inf_dic_noT = {}"
   ]
  },
  {
   "cell_type": "code",
   "execution_count": 170,
   "metadata": {},
   "outputs": [
    {
     "name": "stdout",
     "output_type": "stream",
     "text": [
      "[ 514.  746. 2520.]\n",
      "[3.7871006087288745e-07, 1.8120878435869768e-07, 4.157444227404635e-09]\n",
      "Mean value of eta_inf is: \n",
      " 1.8802542981966326e-07\n"
     ]
    },
    {
     "data": {
      "image/png": "[encoded data removed]",
      "text/plain": [
       "<Figure size 432x288 with 1 Axes>"
      ]
     },
     "metadata": {
      "needs_background": "light"
     },
     "output_type": "display_data"
    }
   ],
   "source": [
    "# For T = 460:\n",
    "temperature = 460\n",
    "\n",
    "mw  = [14404.598, 20918.43, 70705.89]\n",
    "eta = [3.94072818e+00, 1.15599470e+01, 1.63031419e+03]\n",
    "\n",
    "n_beads = np.round(np.array(mw)/14.0266)\n",
    "n_beads_for_code = np.round(n_beads/2)\n",
    "print(n_beads_for_code)\n",
    "\n",
    "f_values = [0.5394639261, 0.5417029740, 0.5477862897]\n",
    "p_eff_values = [2906.83169, 2870.1887295, 2835.98798945]\n",
    "\n",
    "eta_infinit = []\n",
    "for itr in range(len(mw)):\n",
    "\n",
    "    f_term = eta_f_Ai(n=n_beads[itr], f=f_values[itr])\n",
    "    energy_term = eta_deltaE_Peff(p_eff=p_eff_values[itr], ref_T=temperature)\n",
    "    # viscosity = eta_infinit*n_bead * energy_term * f_term\n",
    "\n",
    "    eta_infinit.append(eta[itr]/(n_beads[itr]*f_term*energy_term))\n",
    "\n",
    "print(eta_infinit)\n",
    "eta_inf_dic_noT [temperature] = eta_infinit\n",
    "print('Mean value of eta_inf is: \\n', str(np.mean(eta_infinit)))\n",
    "plt.plot(mw, eta_infinit)\n",
    "plt.xlabel(\"$M_W$\")\n",
    "plt.ylabel(r\"${\\eta}_{\\infty}$\")\n",
    "plt.show()"
   ]
  },
  {
   "cell_type": "code",
   "execution_count": 174,
   "metadata": {},
   "outputs": [
    {
     "name": "stdout",
     "output_type": "stream",
     "text": [
      "The approximated voscosity is:  2.913896735957828\n",
      "The viscosity from the plot is: 37.1419414\n"
     ]
    }
   ],
   "source": [
    "# Testing the above result:\n",
    "eta_inf = np.mean(list(eta_inf_dic_noN.values()))\n",
    "\n",
    "eta_inf = eta_inf_dic_noT[460][1]\n",
    "\n",
    "temperature = 480\n",
    "mw = 31093\n",
    "n_beads = int(np.round(mw/14.0266, decimals=0))\n",
    "\n",
    "f_term = eta_f_Ai(n=n_beads, f=0.5608844193)\n",
    "energy_term = eta_deltaE_Peff(p_eff=2945.69429170, ref_T=temperature)\n",
    "\n",
    "viscosity = n_beads*eta_inf*energy_term*f_term\n",
    "print(\"The approximated voscosity is:  \"+str(viscosity))\n",
    "print(\"The viscosity from the plot is: \"+str(3.71419414e+01))"
   ]
  },
  {
   "cell_type": "markdown",
   "metadata": {},
   "source": [
    "#### Still NO help!"
   ]
  },
  {
   "cell_type": "markdown",
   "metadata": {},
   "source": [
    "### Now lest considering that "
   ]
  }
 ],
 "metadata": {
  "interpreter": {
   "hash": "f66168a065ac0c71b316e6d66d97e9785fa3fae7de673d3fe77b7b3dd2554caf"
  },
  "kernelspec": {
   "display_name": "Python 3.7.11 64-bit ('starterENV': conda)",
   "language": "python",
   "name": "python3"
  },
  "language_info": {
   "codemirror_mode": {
    "name": "ipython",
    "version": 3
   },
   "file_extension": ".py",
   "mimetype": "text/x-python",
   "name": "python",
   "nbconvert_exporter": "python",
   "pygments_lexer": "ipython3",
   "version": "3.7.11"
  },
  "orig_nbformat": 4
 },
 "nbformat": 4,
 "nbformat_minor": 2
}
